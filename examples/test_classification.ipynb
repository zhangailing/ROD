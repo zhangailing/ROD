{
 "cells": [
  {
   "cell_type": "code",
   "execution_count": 2,
   "metadata": {},
   "outputs": [],
   "source": [
    "from __future__ import division\n",
    "from __future__ import print_function\n",
    "import os, sys\n",
    "import warnings\n",
    "warnings.simplefilter(action='ignore', category=FutureWarning)\n",
    "warnings.simplefilter(action='ignore', category=RuntimeWarning)\n",
    "warnings.simplefilter(action='ignore', category=UserWarning)\n",
    "\n",
    "import argparse\n",
    "import random\n",
    "import numpy as np\n",
    "import scipy.sparse as sp\n",
    "import torch\n",
    "\n",
    "SEED = 42\n",
    "np.random.seed(SEED)\n",
    "torch.manual_seed(SEED)\n",
    "torch.cuda.manual_seed(SEED)\n",
    "\n",
    "from torch import optim\n",
    "import torch.nn.functional as F\n",
    "from model import ROD_cla\n",
    "from optimizer import loss_function\n",
    "from utils import *\n",
    "from sklearn.cluster import SpectralClustering, KMeans\n",
    "from clustering_metric import clustering_metrics\n",
    "from tqdm import tqdm\n",
    "import time"
   ]
  },
  {
   "cell_type": "code",
   "execution_count": 3,
   "metadata": {},
   "outputs": [
    {
     "name": "stdout",
     "output_type": "stream",
     "text": [
      "Using cora dataset\n"
     ]
    }
   ],
   "source": [
    "parser = argparse.ArgumentParser()\n",
    "parser.add_argument('--epochs', type=int, default=200)\n",
    "parser.add_argument('--hidden', type=int, default=128)\n",
    "parser.add_argument('--lr', type=float, default=0.02)\n",
    "parser.add_argument('--weight_decay', type=float, default=5e-4)\n",
    "parser.add_argument('--dropout', type=float, default=0.8)\n",
    "parser.add_argument('--batch_size', type=int, default=1000)\n",
    "parser.add_argument('--dataset', type=str, default='cora')\n",
    "parser.add_argument('--num_hops', type=int, default=9)\n",
    "parser.add_argument('--device', type=int, default=0)\n",
    "args = parser.parse_args(args=[])\n",
    "print(\"Using {} dataset\".format(args.dataset))"
   ]
  },
  {
   "cell_type": "markdown",
   "metadata": {},
   "source": [
    "### 1. Data Fetching"
   ]
  },
  {
   "cell_type": "code",
   "execution_count": 4,
   "metadata": {
    "scrolled": true
   },
   "outputs": [],
   "source": [
    "device = torch.device(f\"cuda:{args.device}\" if torch.cuda.is_available() else \"cpu\")\n",
    "adj, features, labels, idx_train, idx_val, idx_test = load_data(args.dataset)\n",
    "features = F.normalize(features, 1)\n",
    "labels = torch.LongTensor(labels)\n",
    "\n",
    "adj_1st = (adj + sp.eye(adj.shape[0])).toarray()\n",
    "adj_label = torch.FloatTensor(adj_1st)\n",
    "neg_num = pos_num = adj_label.sum().long()\n",
    "\n",
    "adj = aug_normalized_adjacency(adj)\n",
    "adj = sparse_mx_to_torch_sparse_tensor(adj).float()\n",
    "\n",
    "n_nodes = features.shape[0]\n",
    "input_feature = [features]\n",
    "for i in range(args.num_hops):\n",
    "    propagated_fea = torch.spmm(adj,input_feature[-1])\n",
    "    input_feature.append(propagated_fea)\n",
    "feature_list = [fea.to(device) for fea in input_feature]\n",
    "    \n",
    "labels = labels.to(device)\n",
    "adj = adj.to(device)"
   ]
  },
  {
   "cell_type": "markdown",
   "metadata": {},
   "source": [
    "### 2. Data Preprocessing"
   ]
  },
  {
   "cell_type": "code",
   "execution_count": 5,
   "metadata": {},
   "outputs": [],
   "source": [
    "sm_sim_mx_list = []\n",
    "for i in range(args.num_hops+1):\n",
    "    cur_feat = F.normalize(feature_list[i].cpu().data)\n",
    "    sm_sim_mx_list.append(torch.mm(cur_feat, cur_feat.t()).reshape([-1,]))\n",
    "\n",
    "pos_inds_list = []\n",
    "neg_inds_list = []\n",
    "for i in range(args.num_hops+1):\n",
    "    pos_inds_list.append(np.argpartition(-sm_sim_mx_list[i], pos_num)[:pos_num])\n",
    "    neg_inds_list.append(np.argpartition(sm_sim_mx_list[i], pos_num*100)[:pos_num*100])\n",
    "\n",
    "length = len(pos_inds_list[0])\n",
    "length_neg = len(neg_inds_list[0])\n",
    "\n",
    "pos_inds_cuda_list = [torch.LongTensor(pos_inds).to(device) for pos_inds in pos_inds_list]\n",
    "\n",
    "batch_size = args.batch_size"
   ]
  },
  {
   "cell_type": "markdown",
   "metadata": {},
   "source": [
    "### 3. Node Classification"
   ]
  },
  {
   "cell_type": "code",
   "execution_count": 6,
   "metadata": {
    "scrolled": true
   },
   "outputs": [
    {
     "name": "stderr",
     "output_type": "stream",
     "text": [
      "  1%|          | 2/200 [00:01<01:46,  1.85it/s]"
     ]
    },
    {
     "name": "stdout",
     "output_type": "stream",
     "text": [
      "Epoch: 0001 loss_train: 19.5064 acc_train: 0.1286 acc_val: 0.3160 acc_test: 0.3190 time: 1.0389s\n",
      "Epoch: 0002 loss_train: 19.4879 acc_train: 0.1500 acc_val: 0.1240 acc_test: 0.1440 time: 0.1882s\n"
     ]
    },
    {
     "name": "stderr",
     "output_type": "stream",
     "text": [
      "  2%|▏         | 3/200 [00:01<01:15,  2.62it/s]"
     ]
    },
    {
     "name": "stdout",
     "output_type": "stream",
     "text": [
      "Epoch: 0003 loss_train: 19.4440 acc_train: 0.2286 acc_val: 0.3040 acc_test: 0.3010 time: 0.1940s\n"
     ]
    },
    {
     "name": "stderr",
     "output_type": "stream",
     "text": [
      "  2%|▎         | 5/200 [00:01<00:52,  3.70it/s]"
     ]
    },
    {
     "name": "stdout",
     "output_type": "stream",
     "text": [
      "Epoch: 0004 loss_train: 19.4038 acc_train: 0.2643 acc_val: 0.4300 acc_test: 0.4130 time: 0.2040s\n",
      "Epoch: 0005 loss_train: 19.2339 acc_train: 0.3357 acc_val: 0.3880 acc_test: 0.4210 time: 0.1942s\n"
     ]
    },
    {
     "name": "stderr",
     "output_type": "stream",
     "text": [
      "  4%|▎         | 7/200 [00:02<00:44,  4.35it/s]"
     ]
    },
    {
     "name": "stdout",
     "output_type": "stream",
     "text": [
      "Epoch: 0006 loss_train: 19.1541 acc_train: 0.3214 acc_val: 0.4720 acc_test: 0.5180 time: 0.2072s\n",
      "Epoch: 0007 loss_train: 19.0158 acc_train: 0.3214 acc_val: 0.6520 acc_test: 0.6830 time: 0.1881s\n"
     ]
    },
    {
     "name": "stderr",
     "output_type": "stream",
     "text": [
      "  4%|▍         | 9/200 [00:02<00:40,  4.66it/s]"
     ]
    },
    {
     "name": "stdout",
     "output_type": "stream",
     "text": [
      "Epoch: 0008 loss_train: 18.8600 acc_train: 0.3000 acc_val: 0.7020 acc_test: 0.7220 time: 0.2044s\n",
      "Epoch: 0009 loss_train: 18.7369 acc_train: 0.3714 acc_val: 0.7040 acc_test: 0.7210 time: 0.1963s\n"
     ]
    },
    {
     "name": "stderr",
     "output_type": "stream",
     "text": [
      "  6%|▌         | 11/200 [00:03<00:39,  4.84it/s]"
     ]
    },
    {
     "name": "stdout",
     "output_type": "stream",
     "text": [
      "Epoch: 0010 loss_train: 18.3639 acc_train: 0.3786 acc_val: 0.7160 acc_test: 0.7190 time: 0.2083s\n",
      "Epoch: 0011 loss_train: 17.7812 acc_train: 0.4429 acc_val: 0.7240 acc_test: 0.7270 time: 0.1899s\n"
     ]
    },
    {
     "name": "stderr",
     "output_type": "stream",
     "text": [
      "  6%|▌         | 12/200 [00:03<00:38,  4.94it/s]"
     ]
    },
    {
     "name": "stdout",
     "output_type": "stream",
     "text": [
      "Epoch: 0012 loss_train: 17.7958 acc_train: 0.4500 acc_val: 0.7620 acc_test: 0.7480 time: 0.1917s\n"
     ]
    },
    {
     "name": "stderr",
     "output_type": "stream",
     "text": [
      "  7%|▋         | 14/200 [00:03<00:37,  4.94it/s]"
     ]
    },
    {
     "name": "stdout",
     "output_type": "stream",
     "text": [
      "Epoch: 0013 loss_train: 17.5496 acc_train: 0.4571 acc_val: 0.7500 acc_test: 0.7480 time: 0.2166s\n",
      "Epoch: 0014 loss_train: 16.7649 acc_train: 0.5714 acc_val: 0.7460 acc_test: 0.7420 time: 0.1898s\n"
     ]
    },
    {
     "name": "stderr",
     "output_type": "stream",
     "text": [
      "  8%|▊         | 16/200 [00:04<00:35,  5.12it/s]"
     ]
    },
    {
     "name": "stdout",
     "output_type": "stream",
     "text": [
      "Epoch: 0015 loss_train: 16.9295 acc_train: 0.4143 acc_val: 0.7340 acc_test: 0.7450 time: 0.1884s\n",
      "Epoch: 0016 loss_train: 16.2480 acc_train: 0.5429 acc_val: 0.7220 acc_test: 0.7390 time: 0.1856s\n"
     ]
    },
    {
     "name": "stderr",
     "output_type": "stream",
     "text": [
      "  9%|▉         | 18/200 [00:04<00:35,  5.18it/s]"
     ]
    },
    {
     "name": "stdout",
     "output_type": "stream",
     "text": [
      "Epoch: 0017 loss_train: 15.5617 acc_train: 0.5714 acc_val: 0.7140 acc_test: 0.7300 time: 0.1912s\n",
      "Epoch: 0018 loss_train: 15.1895 acc_train: 0.5857 acc_val: 0.6960 acc_test: 0.7200 time: 0.1883s\n"
     ]
    },
    {
     "name": "stderr",
     "output_type": "stream",
     "text": [
      " 10%|▉         | 19/200 [00:04<00:35,  5.17it/s]"
     ]
    },
    {
     "name": "stdout",
     "output_type": "stream",
     "text": [
      "Epoch: 0019 loss_train: 15.1008 acc_train: 0.6143 acc_val: 0.7300 acc_test: 0.7480 time: 0.1927s\n"
     ]
    },
    {
     "name": "stderr",
     "output_type": "stream",
     "text": [
      " 10%|█         | 21/200 [00:04<00:35,  5.05it/s]"
     ]
    },
    {
     "name": "stdout",
     "output_type": "stream",
     "text": [
      "Epoch: 0020 loss_train: 13.9110 acc_train: 0.7286 acc_val: 0.7460 acc_test: 0.7640 time: 0.2092s\n",
      "Epoch: 0021 loss_train: 13.3512 acc_train: 0.7000 acc_val: 0.7680 acc_test: 0.7680 time: 0.1947s\n"
     ]
    },
    {
     "name": "stderr",
     "output_type": "stream",
     "text": [
      " 12%|█▏        | 23/200 [00:05<00:34,  5.13it/s]"
     ]
    },
    {
     "name": "stdout",
     "output_type": "stream",
     "text": [
      "Epoch: 0022 loss_train: 12.6528 acc_train: 0.6857 acc_val: 0.7720 acc_test: 0.7730 time: 0.1916s\n",
      "Epoch: 0023 loss_train: 12.8551 acc_train: 0.7000 acc_val: 0.7820 acc_test: 0.7820 time: 0.1898s\n"
     ]
    },
    {
     "name": "stderr",
     "output_type": "stream",
     "text": [
      " 12%|█▎        | 25/200 [00:05<00:33,  5.17it/s]"
     ]
    },
    {
     "name": "stdout",
     "output_type": "stream",
     "text": [
      "Epoch: 0024 loss_train: 12.0255 acc_train: 0.7214 acc_val: 0.7900 acc_test: 0.7920 time: 0.1881s\n",
      "Epoch: 0025 loss_train: 11.1335 acc_train: 0.7429 acc_val: 0.7960 acc_test: 0.8010 time: 0.1919s\n"
     ]
    },
    {
     "name": "stderr",
     "output_type": "stream",
     "text": [
      " 14%|█▎        | 27/200 [00:06<00:33,  5.18it/s]"
     ]
    },
    {
     "name": "stdout",
     "output_type": "stream",
     "text": [
      "Epoch: 0026 loss_train: 11.3755 acc_train: 0.7500 acc_val: 0.8020 acc_test: 0.8120 time: 0.1891s\n",
      "Epoch: 0027 loss_train: 10.3766 acc_train: 0.7429 acc_val: 0.8000 acc_test: 0.8130 time: 0.1930s\n"
     ]
    },
    {
     "name": "stderr",
     "output_type": "stream",
     "text": [
      " 14%|█▍        | 29/200 [00:06<00:33,  5.14it/s]"
     ]
    },
    {
     "name": "stdout",
     "output_type": "stream",
     "text": [
      "Epoch: 0028 loss_train: 10.1333 acc_train: 0.7929 acc_val: 0.7980 acc_test: 0.8090 time: 0.1892s\n",
      "Epoch: 0029 loss_train: 9.9845 acc_train: 0.7357 acc_val: 0.8020 acc_test: 0.8030 time: 0.1982s\n"
     ]
    },
    {
     "name": "stderr",
     "output_type": "stream",
     "text": [
      " 16%|█▌        | 31/200 [00:06<00:32,  5.17it/s]"
     ]
    },
    {
     "name": "stdout",
     "output_type": "stream",
     "text": [
      "Epoch: 0030 loss_train: 9.9214 acc_train: 0.7429 acc_val: 0.8040 acc_test: 0.8030 time: 0.1870s\n",
      "Epoch: 0031 loss_train: 8.5173 acc_train: 0.8214 acc_val: 0.8000 acc_test: 0.8060 time: 0.1941s\n"
     ]
    },
    {
     "name": "stderr",
     "output_type": "stream",
     "text": [
      " 16%|█▋        | 33/200 [00:07<00:32,  5.13it/s]"
     ]
    },
    {
     "name": "stdout",
     "output_type": "stream",
     "text": [
      "Epoch: 0032 loss_train: 9.1688 acc_train: 0.7857 acc_val: 0.7980 acc_test: 0.8040 time: 0.1992s\n",
      "Epoch: 0033 loss_train: 7.8890 acc_train: 0.8214 acc_val: 0.7960 acc_test: 0.8050 time: 0.1925s\n"
     ]
    },
    {
     "name": "stderr",
     "output_type": "stream",
     "text": [
      " 18%|█▊        | 35/200 [00:07<00:32,  5.11it/s]"
     ]
    },
    {
     "name": "stdout",
     "output_type": "stream",
     "text": [
      "Epoch: 0034 loss_train: 8.3155 acc_train: 0.8071 acc_val: 0.8000 acc_test: 0.8040 time: 0.1965s\n",
      "Epoch: 0035 loss_train: 7.9429 acc_train: 0.7857 acc_val: 0.7960 acc_test: 0.8260 time: 0.1931s\n"
     ]
    },
    {
     "name": "stderr",
     "output_type": "stream",
     "text": [
      " 18%|█▊        | 36/200 [00:07<00:32,  5.11it/s]"
     ]
    },
    {
     "name": "stdout",
     "output_type": "stream",
     "text": [
      "Epoch: 0036 loss_train: 8.0326 acc_train: 0.7857 acc_val: 0.7980 acc_test: 0.8280 time: 0.1945s\n"
     ]
    },
    {
     "name": "stderr",
     "output_type": "stream",
     "text": [
      " 18%|█▊        | 37/200 [00:08<00:32,  5.00it/s]"
     ]
    },
    {
     "name": "stdout",
     "output_type": "stream",
     "text": [
      "Epoch: 0037 loss_train: 7.3559 acc_train: 0.7857 acc_val: 0.7980 acc_test: 0.8320 time: 0.2029s\n"
     ]
    },
    {
     "name": "stderr",
     "output_type": "stream",
     "text": [
      " 20%|█▉        | 39/200 [00:08<00:32,  5.00it/s]"
     ]
    },
    {
     "name": "stdout",
     "output_type": "stream",
     "text": [
      "Epoch: 0038 loss_train: 6.9739 acc_train: 0.8143 acc_val: 0.8000 acc_test: 0.8320 time: 0.2007s\n",
      "Epoch: 0039 loss_train: 6.5067 acc_train: 0.8000 acc_val: 0.8020 acc_test: 0.8310 time: 0.1981s\n"
     ]
    },
    {
     "name": "stderr",
     "output_type": "stream",
     "text": [
      " 20%|██        | 41/200 [00:08<00:32,  4.89it/s]"
     ]
    },
    {
     "name": "stdout",
     "output_type": "stream",
     "text": [
      "Epoch: 0040 loss_train: 5.7236 acc_train: 0.8786 acc_val: 0.8040 acc_test: 0.8310 time: 0.2219s\n",
      "Epoch: 0041 loss_train: 6.5612 acc_train: 0.8000 acc_val: 0.8040 acc_test: 0.8280 time: 0.1966s\n"
     ]
    },
    {
     "name": "stderr",
     "output_type": "stream",
     "text": [
      " 22%|██▏       | 43/200 [00:09<00:31,  5.00it/s]"
     ]
    },
    {
     "name": "stdout",
     "output_type": "stream",
     "text": [
      "Epoch: 0042 loss_train: 5.5084 acc_train: 0.8929 acc_val: 0.8020 acc_test: 0.8240 time: 0.1983s\n",
      "Epoch: 0043 loss_train: 6.4268 acc_train: 0.8643 acc_val: 0.8040 acc_test: 0.8250 time: 0.1912s\n"
     ]
    },
    {
     "name": "stderr",
     "output_type": "stream",
     "text": [
      " 22%|██▎       | 45/200 [00:09<00:31,  4.99it/s]"
     ]
    },
    {
     "name": "stdout",
     "output_type": "stream",
     "text": [
      "Epoch: 0044 loss_train: 5.9814 acc_train: 0.8500 acc_val: 0.8020 acc_test: 0.8170 time: 0.2044s\n",
      "Epoch: 0045 loss_train: 5.5536 acc_train: 0.8571 acc_val: 0.8020 acc_test: 0.8130 time: 0.1954s\n"
     ]
    },
    {
     "name": "stderr",
     "output_type": "stream",
     "text": [
      " 24%|██▎       | 47/200 [00:10<00:30,  5.05it/s]"
     ]
    },
    {
     "name": "stdout",
     "output_type": "stream",
     "text": [
      "Epoch: 0046 loss_train: 6.7141 acc_train: 0.7929 acc_val: 0.7980 acc_test: 0.8090 time: 0.1945s\n",
      "Epoch: 0047 loss_train: 5.2532 acc_train: 0.8429 acc_val: 0.7880 acc_test: 0.8080 time: 0.1940s\n"
     ]
    },
    {
     "name": "stderr",
     "output_type": "stream",
     "text": [
      " 24%|██▍       | 49/200 [00:10<00:29,  5.07it/s]"
     ]
    },
    {
     "name": "stdout",
     "output_type": "stream",
     "text": [
      "Epoch: 0048 loss_train: 4.9688 acc_train: 0.8857 acc_val: 0.7880 acc_test: 0.8030 time: 0.2015s\n",
      "Epoch: 0049 loss_train: 5.5977 acc_train: 0.8571 acc_val: 0.7900 acc_test: 0.8050 time: 0.1901s\n"
     ]
    },
    {
     "name": "stderr",
     "output_type": "stream",
     "text": [
      " 26%|██▌       | 51/200 [00:10<00:28,  5.15it/s]"
     ]
    },
    {
     "name": "stdout",
     "output_type": "stream",
     "text": [
      "Epoch: 0050 loss_train: 5.2352 acc_train: 0.8429 acc_val: 0.7920 acc_test: 0.8030 time: 0.1937s\n",
      "Epoch: 0051 loss_train: 5.0802 acc_train: 0.8929 acc_val: 0.7940 acc_test: 0.8050 time: 0.1868s\n"
     ]
    },
    {
     "name": "stderr",
     "output_type": "stream",
     "text": [
      " 26%|██▌       | 52/200 [00:11<00:28,  5.18it/s]"
     ]
    },
    {
     "name": "stdout",
     "output_type": "stream",
     "text": [
      "Epoch: 0052 loss_train: 5.7486 acc_train: 0.8143 acc_val: 0.7960 acc_test: 0.8090 time: 0.1884s\n"
     ]
    },
    {
     "name": "stderr",
     "output_type": "stream",
     "text": [
      " 27%|██▋       | 54/200 [00:11<00:28,  5.09it/s]"
     ]
    },
    {
     "name": "stdout",
     "output_type": "stream",
     "text": [
      "Epoch: 0053 loss_train: 4.6013 acc_train: 0.8929 acc_val: 0.7920 acc_test: 0.8170 time: 0.2024s\n",
      "Epoch: 0054 loss_train: 4.6394 acc_train: 0.8643 acc_val: 0.7980 acc_test: 0.8210 time: 0.1953s\n"
     ]
    },
    {
     "name": "stderr",
     "output_type": "stream",
     "text": [
      " 28%|██▊       | 56/200 [00:11<00:28,  5.10it/s]"
     ]
    },
    {
     "name": "stdout",
     "output_type": "stream",
     "text": [
      "Epoch: 0055 loss_train: 4.8351 acc_train: 0.8786 acc_val: 0.8020 acc_test: 0.8200 time: 0.1910s\n",
      "Epoch: 0056 loss_train: 4.6746 acc_train: 0.8714 acc_val: 0.8020 acc_test: 0.8220 time: 0.1971s\n"
     ]
    },
    {
     "name": "stderr",
     "output_type": "stream",
     "text": [
      " 29%|██▉       | 58/200 [00:12<00:27,  5.17it/s]"
     ]
    },
    {
     "name": "stdout",
     "output_type": "stream",
     "text": [
      "Epoch: 0057 loss_train: 5.1302 acc_train: 0.8571 acc_val: 0.8040 acc_test: 0.8260 time: 0.1919s\n",
      "Epoch: 0058 loss_train: 4.2028 acc_train: 0.8929 acc_val: 0.8060 acc_test: 0.8320 time: 0.1875s\n"
     ]
    },
    {
     "name": "stderr",
     "output_type": "stream",
     "text": [
      " 30%|███       | 60/200 [00:12<00:27,  5.17it/s]"
     ]
    },
    {
     "name": "stdout",
     "output_type": "stream",
     "text": [
      "Epoch: 0059 loss_train: 4.7223 acc_train: 0.9071 acc_val: 0.8060 acc_test: 0.8340 time: 0.1922s\n",
      "Epoch: 0060 loss_train: 4.5004 acc_train: 0.8786 acc_val: 0.8060 acc_test: 0.8350 time: 0.1914s\n"
     ]
    },
    {
     "name": "stderr",
     "output_type": "stream",
     "text": [
      " 30%|███       | 61/200 [00:12<00:27,  5.14it/s]"
     ]
    },
    {
     "name": "stdout",
     "output_type": "stream",
     "text": [
      "Epoch: 0061 loss_train: 3.8981 acc_train: 0.9071 acc_val: 0.8020 acc_test: 0.8280 time: 0.1961s\n"
     ]
    },
    {
     "name": "stderr",
     "output_type": "stream",
     "text": [
      " 32%|███▏      | 63/200 [00:13<00:26,  5.09it/s]"
     ]
    },
    {
     "name": "stdout",
     "output_type": "stream",
     "text": [
      "Epoch: 0062 loss_train: 4.2263 acc_train: 0.8857 acc_val: 0.8000 acc_test: 0.8280 time: 0.2071s\n",
      "Epoch: 0063 loss_train: 4.5068 acc_train: 0.8429 acc_val: 0.8040 acc_test: 0.8250 time: 0.1901s\n"
     ]
    },
    {
     "name": "stderr",
     "output_type": "stream",
     "text": [
      " 32%|███▏      | 64/200 [00:13<00:26,  5.13it/s]"
     ]
    },
    {
     "name": "stdout",
     "output_type": "stream",
     "text": [
      "Epoch: 0064 loss_train: 4.3522 acc_train: 0.8929 acc_val: 0.8000 acc_test: 0.8210 time: 0.1892s\n"
     ]
    },
    {
     "name": "stderr",
     "output_type": "stream",
     "text": [
      " 33%|███▎      | 66/200 [00:13<00:26,  5.10it/s]"
     ]
    },
    {
     "name": "stdout",
     "output_type": "stream",
     "text": [
      "Epoch: 0065 loss_train: 4.2193 acc_train: 0.9000 acc_val: 0.8020 acc_test: 0.8240 time: 0.2028s\n",
      "Epoch: 0066 loss_train: 4.1520 acc_train: 0.8929 acc_val: 0.8020 acc_test: 0.8230 time: 0.1904s\n"
     ]
    },
    {
     "name": "stderr",
     "output_type": "stream",
     "text": [
      " 34%|███▍      | 68/200 [00:14<00:25,  5.14it/s]"
     ]
    },
    {
     "name": "stdout",
     "output_type": "stream",
     "text": [
      "Epoch: 0067 loss_train: 4.3413 acc_train: 0.8571 acc_val: 0.8060 acc_test: 0.8240 time: 0.1875s\n",
      "Epoch: 0068 loss_train: 3.4336 acc_train: 0.9357 acc_val: 0.8020 acc_test: 0.8230 time: 0.1940s\n"
     ]
    },
    {
     "name": "stderr",
     "output_type": "stream",
     "text": [
      " 35%|███▌      | 70/200 [00:14<00:25,  5.14it/s]"
     ]
    },
    {
     "name": "stdout",
     "output_type": "stream",
     "text": [
      "Epoch: 0069 loss_train: 4.1652 acc_train: 0.8786 acc_val: 0.8000 acc_test: 0.8240 time: 0.1967s\n",
      "Epoch: 0070 loss_train: 3.6903 acc_train: 0.9071 acc_val: 0.8020 acc_test: 0.8260 time: 0.1911s\n"
     ]
    },
    {
     "name": "stderr",
     "output_type": "stream",
     "text": [
      " 36%|███▌      | 72/200 [00:15<00:25,  5.11it/s]"
     ]
    },
    {
     "name": "stdout",
     "output_type": "stream",
     "text": [
      "Epoch: 0071 loss_train: 3.9195 acc_train: 0.9000 acc_val: 0.8020 acc_test: 0.8300 time: 0.1995s\n",
      "Epoch: 0072 loss_train: 4.2844 acc_train: 0.9000 acc_val: 0.8020 acc_test: 0.8320 time: 0.1925s\n"
     ]
    },
    {
     "name": "stderr",
     "output_type": "stream",
     "text": [
      " 37%|███▋      | 74/200 [00:15<00:24,  5.15it/s]"
     ]
    },
    {
     "name": "stdout",
     "output_type": "stream",
     "text": [
      "Epoch: 0073 loss_train: 4.0360 acc_train: 0.9071 acc_val: 0.8040 acc_test: 0.8310 time: 0.1880s\n",
      "Epoch: 0074 loss_train: 3.3155 acc_train: 0.9214 acc_val: 0.8020 acc_test: 0.8290 time: 0.1947s\n"
     ]
    },
    {
     "name": "stderr",
     "output_type": "stream",
     "text": [
      " 38%|███▊      | 76/200 [00:15<00:24,  4.98it/s]"
     ]
    },
    {
     "name": "stdout",
     "output_type": "stream",
     "text": [
      "Epoch: 0075 loss_train: 3.5352 acc_train: 0.9143 acc_val: 0.8020 acc_test: 0.8300 time: 0.2199s\n",
      "Epoch: 0076 loss_train: 3.2821 acc_train: 0.9143 acc_val: 0.8000 acc_test: 0.8220 time: 0.1965s\n"
     ]
    },
    {
     "name": "stderr",
     "output_type": "stream",
     "text": [
      " 39%|███▉      | 78/200 [00:16<00:24,  4.99it/s]"
     ]
    },
    {
     "name": "stdout",
     "output_type": "stream",
     "text": [
      "Epoch: 0077 loss_train: 3.0146 acc_train: 0.9286 acc_val: 0.7980 acc_test: 0.8200 time: 0.2010s\n",
      "Epoch: 0078 loss_train: 4.3123 acc_train: 0.9143 acc_val: 0.7980 acc_test: 0.8210 time: 0.1972s\n"
     ]
    },
    {
     "name": "stderr",
     "output_type": "stream",
     "text": [
      " 40%|████      | 80/200 [00:16<00:24,  4.99it/s]"
     ]
    },
    {
     "name": "stdout",
     "output_type": "stream",
     "text": [
      "Epoch: 0079 loss_train: 4.0399 acc_train: 0.8929 acc_val: 0.8000 acc_test: 0.8230 time: 0.2068s\n",
      "Epoch: 0080 loss_train: 2.9575 acc_train: 0.9571 acc_val: 0.8000 acc_test: 0.8260 time: 0.1935s\n"
     ]
    },
    {
     "name": "stderr",
     "output_type": "stream",
     "text": [
      " 41%|████      | 82/200 [00:17<00:23,  5.09it/s]"
     ]
    },
    {
     "name": "stdout",
     "output_type": "stream",
     "text": [
      "Epoch: 0081 loss_train: 2.9678 acc_train: 0.9286 acc_val: 0.8000 acc_test: 0.8250 time: 0.1963s\n",
      "Epoch: 0082 loss_train: 3.7049 acc_train: 0.9286 acc_val: 0.7960 acc_test: 0.8220 time: 0.1885s\n"
     ]
    },
    {
     "name": "stderr",
     "output_type": "stream",
     "text": [
      " 42%|████▏     | 83/200 [00:17<00:23,  5.08it/s]"
     ]
    },
    {
     "name": "stdout",
     "output_type": "stream",
     "text": [
      "Epoch: 0083 loss_train: 3.4317 acc_train: 0.8929 acc_val: 0.7980 acc_test: 0.8210 time: 0.1946s\n"
     ]
    },
    {
     "name": "stderr",
     "output_type": "stream",
     "text": [
      " 42%|████▏     | 84/200 [00:17<00:23,  5.01it/s]"
     ]
    },
    {
     "name": "stdout",
     "output_type": "stream",
     "text": [
      "Epoch: 0084 loss_train: 3.4164 acc_train: 0.9429 acc_val: 0.8000 acc_test: 0.8230 time: 0.2057s\n"
     ]
    },
    {
     "name": "stderr",
     "output_type": "stream",
     "text": [
      " 43%|████▎     | 86/200 [00:17<00:22,  5.08it/s]"
     ]
    },
    {
     "name": "stdout",
     "output_type": "stream",
     "text": [
      "Epoch: 0085 loss_train: 3.1301 acc_train: 0.9286 acc_val: 0.7980 acc_test: 0.8230 time: 0.2024s\n",
      "Epoch: 0086 loss_train: 3.4685 acc_train: 0.9000 acc_val: 0.8000 acc_test: 0.8270 time: 0.1863s\n"
     ]
    },
    {
     "name": "stderr",
     "output_type": "stream",
     "text": [
      " 44%|████▍     | 88/200 [00:18<00:21,  5.16it/s]"
     ]
    },
    {
     "name": "stdout",
     "output_type": "stream",
     "text": [
      "Epoch: 0087 loss_train: 3.5320 acc_train: 0.9143 acc_val: 0.8020 acc_test: 0.8270 time: 0.1914s\n",
      "Epoch: 0088 loss_train: 3.1943 acc_train: 0.9143 acc_val: 0.8040 acc_test: 0.8300 time: 0.1893s\n"
     ]
    },
    {
     "name": "stderr",
     "output_type": "stream",
     "text": [
      " 45%|████▌     | 90/200 [00:18<00:21,  5.09it/s]"
     ]
    },
    {
     "name": "stdout",
     "output_type": "stream",
     "text": [
      "Epoch: 0089 loss_train: 3.3259 acc_train: 0.9500 acc_val: 0.8040 acc_test: 0.8290 time: 0.2009s\n",
      "Epoch: 0090 loss_train: 3.3303 acc_train: 0.9143 acc_val: 0.8040 acc_test: 0.8290 time: 0.1953s\n"
     ]
    },
    {
     "name": "stderr",
     "output_type": "stream",
     "text": [
      " 46%|████▌     | 92/200 [00:19<00:22,  4.81it/s]"
     ]
    },
    {
     "name": "stdout",
     "output_type": "stream",
     "text": [
      "Epoch: 0091 loss_train: 3.3966 acc_train: 0.9286 acc_val: 0.8000 acc_test: 0.8300 time: 0.2577s\n",
      "Epoch: 0092 loss_train: 2.8567 acc_train: 0.9429 acc_val: 0.7980 acc_test: 0.8320 time: 0.1894s\n"
     ]
    },
    {
     "name": "stderr",
     "output_type": "stream",
     "text": [
      " 47%|████▋     | 94/200 [00:19<00:21,  5.01it/s]"
     ]
    },
    {
     "name": "stdout",
     "output_type": "stream",
     "text": [
      "Epoch: 0093 loss_train: 3.3311 acc_train: 0.9143 acc_val: 0.8060 acc_test: 0.8330 time: 0.1912s\n",
      "Epoch: 0094 loss_train: 2.7600 acc_train: 0.9500 acc_val: 0.8020 acc_test: 0.8260 time: 0.1893s\n"
     ]
    },
    {
     "name": "stderr",
     "output_type": "stream",
     "text": [
      " 48%|████▊     | 96/200 [00:19<00:20,  5.11it/s]"
     ]
    },
    {
     "name": "stdout",
     "output_type": "stream",
     "text": [
      "Epoch: 0095 loss_train: 3.5107 acc_train: 0.9143 acc_val: 0.8000 acc_test: 0.8230 time: 0.1896s\n",
      "Epoch: 0096 loss_train: 3.4671 acc_train: 0.8929 acc_val: 0.7960 acc_test: 0.8200 time: 0.1908s\n"
     ]
    },
    {
     "name": "stderr",
     "output_type": "stream",
     "text": [
      " 48%|████▊     | 97/200 [00:19<00:20,  5.06it/s]"
     ]
    },
    {
     "name": "stdout",
     "output_type": "stream",
     "text": [
      "Epoch: 0097 loss_train: 3.2454 acc_train: 0.9286 acc_val: 0.7960 acc_test: 0.8180 time: 0.2008s\n"
     ]
    },
    {
     "name": "stderr",
     "output_type": "stream",
     "text": [
      " 50%|████▉     | 99/200 [00:20<00:19,  5.06it/s]"
     ]
    },
    {
     "name": "stdout",
     "output_type": "stream",
     "text": [
      "Epoch: 0098 loss_train: 3.1804 acc_train: 0.9143 acc_val: 0.7960 acc_test: 0.8120 time: 0.2023s\n",
      "Epoch: 0099 loss_train: 3.3703 acc_train: 0.9214 acc_val: 0.7960 acc_test: 0.8130 time: 0.1921s\n"
     ]
    },
    {
     "name": "stderr",
     "output_type": "stream",
     "text": [
      " 50%|█████     | 101/200 [00:20<00:19,  5.06it/s]"
     ]
    },
    {
     "name": "stdout",
     "output_type": "stream",
     "text": [
      "Epoch: 0100 loss_train: 3.0127 acc_train: 0.9143 acc_val: 0.7960 acc_test: 0.8120 time: 0.1957s\n",
      "Epoch: 0101 loss_train: 2.7117 acc_train: 0.9286 acc_val: 0.7960 acc_test: 0.8180 time: 0.1955s\n"
     ]
    },
    {
     "name": "stderr",
     "output_type": "stream",
     "text": [
      " 52%|█████▏    | 103/200 [00:21<00:18,  5.17it/s]"
     ]
    },
    {
     "name": "stdout",
     "output_type": "stream",
     "text": [
      "Epoch: 0102 loss_train: 2.7195 acc_train: 0.9214 acc_val: 0.8020 acc_test: 0.8210 time: 0.1874s\n",
      "Epoch: 0103 loss_train: 2.8311 acc_train: 0.9429 acc_val: 0.7980 acc_test: 0.8210 time: 0.1868s\n"
     ]
    },
    {
     "name": "stderr",
     "output_type": "stream",
     "text": [
      " 52%|█████▎    | 105/200 [00:21<00:18,  5.13it/s]"
     ]
    },
    {
     "name": "stdout",
     "output_type": "stream",
     "text": [
      "Epoch: 0104 loss_train: 2.5877 acc_train: 0.9571 acc_val: 0.8000 acc_test: 0.8230 time: 0.1982s\n",
      "Epoch: 0105 loss_train: 2.9513 acc_train: 0.9500 acc_val: 0.8000 acc_test: 0.8250 time: 0.1932s\n"
     ]
    },
    {
     "name": "stderr",
     "output_type": "stream",
     "text": [
      " 54%|█████▎    | 107/200 [00:21<00:18,  5.08it/s]"
     ]
    },
    {
     "name": "stdout",
     "output_type": "stream",
     "text": [
      "Epoch: 0106 loss_train: 2.5003 acc_train: 0.9643 acc_val: 0.8000 acc_test: 0.8260 time: 0.1960s\n",
      "Epoch: 0107 loss_train: 2.6880 acc_train: 0.9500 acc_val: 0.8000 acc_test: 0.8260 time: 0.1976s\n"
     ]
    },
    {
     "name": "stderr",
     "output_type": "stream",
     "text": [
      " 54%|█████▍    | 108/200 [00:22<00:18,  5.09it/s]"
     ]
    },
    {
     "name": "stdout",
     "output_type": "stream",
     "text": [
      "Epoch: 0108 loss_train: 2.7623 acc_train: 0.9500 acc_val: 0.7960 acc_test: 0.8290 time: 0.1942s\n"
     ]
    },
    {
     "name": "stderr",
     "output_type": "stream",
     "text": [
      " 55%|█████▍    | 109/200 [00:22<00:18,  5.01it/s]"
     ]
    },
    {
     "name": "stdout",
     "output_type": "stream",
     "text": [
      "Epoch: 0109 loss_train: 3.4409 acc_train: 0.8857 acc_val: 0.7980 acc_test: 0.8300 time: 0.2048s\n",
      "Epoch: 0110 loss_train: 2.7431 acc_train: 0.9286 acc_val: 0.8000 acc_test: 0.8260 time: 0.1987s\n"
     ]
    },
    {
     "name": "stderr",
     "output_type": "stream",
     "text": [
      " 56%|█████▌    | 112/200 [00:22<00:17,  5.03it/s]"
     ]
    },
    {
     "name": "stdout",
     "output_type": "stream",
     "text": [
      "Epoch: 0111 loss_train: 2.8593 acc_train: 0.9429 acc_val: 0.7980 acc_test: 0.8250 time: 0.1974s\n",
      "Epoch: 0112 loss_train: 2.6529 acc_train: 0.9643 acc_val: 0.8000 acc_test: 0.8250 time: 0.1954s\n"
     ]
    },
    {
     "name": "stderr",
     "output_type": "stream",
     "text": [
      " 57%|█████▋    | 114/200 [00:23<00:19,  4.41it/s]"
     ]
    },
    {
     "name": "stdout",
     "output_type": "stream",
     "text": [
      "Epoch: 0113 loss_train: 2.2789 acc_train: 0.9500 acc_val: 0.8000 acc_test: 0.8230 time: 0.3378s\n",
      "Epoch: 0114 loss_train: 2.8645 acc_train: 0.9357 acc_val: 0.7980 acc_test: 0.8240 time: 0.1923s\n"
     ]
    },
    {
     "name": "stderr",
     "output_type": "stream",
     "text": [
      " 58%|█████▊    | 116/200 [00:23<00:17,  4.80it/s]"
     ]
    },
    {
     "name": "stdout",
     "output_type": "stream",
     "text": [
      "Epoch: 0115 loss_train: 2.6216 acc_train: 0.9357 acc_val: 0.7980 acc_test: 0.8250 time: 0.1902s\n",
      "Epoch: 0116 loss_train: 3.2625 acc_train: 0.9000 acc_val: 0.8060 acc_test: 0.8250 time: 0.1879s\n"
     ]
    },
    {
     "name": "stderr",
     "output_type": "stream",
     "text": [
      " 59%|█████▉    | 118/200 [00:24<00:16,  4.97it/s]"
     ]
    },
    {
     "name": "stdout",
     "output_type": "stream",
     "text": [
      "Epoch: 0117 loss_train: 2.6971 acc_train: 0.9214 acc_val: 0.8060 acc_test: 0.8240 time: 0.1943s\n",
      "Epoch: 0118 loss_train: 3.2204 acc_train: 0.9143 acc_val: 0.8080 acc_test: 0.8240 time: 0.1918s\n"
     ]
    },
    {
     "name": "stderr",
     "output_type": "stream",
     "text": [
      " 60%|██████    | 120/200 [00:24<00:15,  5.08it/s]"
     ]
    },
    {
     "name": "stdout",
     "output_type": "stream",
     "text": [
      "Epoch: 0119 loss_train: 3.0766 acc_train: 0.9429 acc_val: 0.8060 acc_test: 0.8290 time: 0.1892s\n",
      "Epoch: 0120 loss_train: 3.1164 acc_train: 0.8786 acc_val: 0.8080 acc_test: 0.8290 time: 0.1920s\n"
     ]
    },
    {
     "name": "stderr",
     "output_type": "stream",
     "text": [
      " 61%|██████    | 122/200 [00:25<00:15,  5.07it/s]"
     ]
    },
    {
     "name": "stdout",
     "output_type": "stream",
     "text": [
      "Epoch: 0121 loss_train: 2.1458 acc_train: 0.9571 acc_val: 0.7980 acc_test: 0.8270 time: 0.1979s\n",
      "Epoch: 0122 loss_train: 3.0670 acc_train: 0.9429 acc_val: 0.7960 acc_test: 0.8270 time: 0.1932s\n"
     ]
    },
    {
     "name": "stderr",
     "output_type": "stream",
     "text": [
      " 62%|██████▏   | 124/200 [00:25<00:15,  5.05it/s]"
     ]
    },
    {
     "name": "stdout",
     "output_type": "stream",
     "text": [
      "Epoch: 0123 loss_train: 2.7529 acc_train: 0.9500 acc_val: 0.8020 acc_test: 0.8210 time: 0.1984s\n",
      "Epoch: 0124 loss_train: 3.2567 acc_train: 0.9143 acc_val: 0.8020 acc_test: 0.8170 time: 0.1969s\n"
     ]
    },
    {
     "name": "stderr",
     "output_type": "stream",
     "text": [
      " 63%|██████▎   | 126/200 [00:25<00:14,  5.08it/s]"
     ]
    },
    {
     "name": "stdout",
     "output_type": "stream",
     "text": [
      "Epoch: 0125 loss_train: 2.8823 acc_train: 0.9500 acc_val: 0.7980 acc_test: 0.8160 time: 0.1927s\n",
      "Epoch: 0126 loss_train: 3.4127 acc_train: 0.9286 acc_val: 0.7960 acc_test: 0.8180 time: 0.1955s\n"
     ]
    },
    {
     "name": "stderr",
     "output_type": "stream",
     "text": [
      " 64%|██████▍   | 128/200 [00:26<00:14,  5.07it/s]"
     ]
    },
    {
     "name": "stdout",
     "output_type": "stream",
     "text": [
      "Epoch: 0127 loss_train: 2.7109 acc_train: 0.9500 acc_val: 0.7980 acc_test: 0.8250 time: 0.1933s\n",
      "Epoch: 0128 loss_train: 2.7239 acc_train: 0.9571 acc_val: 0.8040 acc_test: 0.8260 time: 0.1975s\n"
     ]
    },
    {
     "name": "stderr",
     "output_type": "stream",
     "text": [
      " 65%|██████▌   | 130/200 [00:26<00:13,  5.13it/s]"
     ]
    },
    {
     "name": "stdout",
     "output_type": "stream",
     "text": [
      "Epoch: 0129 loss_train: 2.2437 acc_train: 0.9714 acc_val: 0.8020 acc_test: 0.8210 time: 0.1925s\n",
      "Epoch: 0130 loss_train: 2.3873 acc_train: 0.9357 acc_val: 0.8020 acc_test: 0.8200 time: 0.1908s\n"
     ]
    },
    {
     "name": "stderr",
     "output_type": "stream",
     "text": [
      " 66%|██████▌   | 132/200 [00:27<00:13,  5.12it/s]"
     ]
    },
    {
     "name": "stdout",
     "output_type": "stream",
     "text": [
      "Epoch: 0131 loss_train: 2.9584 acc_train: 0.9143 acc_val: 0.7980 acc_test: 0.8220 time: 0.1930s\n",
      "Epoch: 0132 loss_train: 2.9128 acc_train: 0.9214 acc_val: 0.8000 acc_test: 0.8210 time: 0.1948s\n"
     ]
    },
    {
     "name": "stderr",
     "output_type": "stream",
     "text": [
      " 66%|██████▋   | 133/200 [00:27<00:13,  5.12it/s]"
     ]
    },
    {
     "name": "stdout",
     "output_type": "stream",
     "text": [
      "Epoch: 0133 loss_train: 2.7487 acc_train: 0.9143 acc_val: 0.7980 acc_test: 0.8180 time: 0.1929s\n"
     ]
    },
    {
     "name": "stderr",
     "output_type": "stream",
     "text": [
      " 67%|██████▋   | 134/200 [00:27<00:13,  5.03it/s]"
     ]
    },
    {
     "name": "stdout",
     "output_type": "stream",
     "text": [
      "Epoch: 0134 loss_train: 2.8638 acc_train: 0.9214 acc_val: 0.8000 acc_test: 0.8190 time: 0.2054s\n"
     ]
    },
    {
     "name": "stderr",
     "output_type": "stream",
     "text": [
      " 68%|██████▊   | 136/200 [00:27<00:12,  4.95it/s]"
     ]
    },
    {
     "name": "stdout",
     "output_type": "stream",
     "text": [
      "Epoch: 0135 loss_train: 2.5394 acc_train: 0.9429 acc_val: 0.7980 acc_test: 0.8240 time: 0.2251s\n",
      "Epoch: 0136 loss_train: 2.8228 acc_train: 0.9286 acc_val: 0.8040 acc_test: 0.8240 time: 0.1891s\n"
     ]
    },
    {
     "name": "stderr",
     "output_type": "stream",
     "text": [
      " 68%|██████▊   | 137/200 [00:28<00:12,  5.00it/s]"
     ]
    },
    {
     "name": "stdout",
     "output_type": "stream",
     "text": [
      "Epoch: 0137 loss_train: 2.4623 acc_train: 0.9429 acc_val: 0.8040 acc_test: 0.8240 time: 0.1933s\n"
     ]
    },
    {
     "name": "stderr",
     "output_type": "stream",
     "text": [
      " 69%|██████▉   | 138/200 [00:28<00:12,  4.98it/s]"
     ]
    },
    {
     "name": "stdout",
     "output_type": "stream",
     "text": [
      "Epoch: 0138 loss_train: 2.8516 acc_train: 0.9071 acc_val: 0.8020 acc_test: 0.8210 time: 0.2009s\n"
     ]
    },
    {
     "name": "stderr",
     "output_type": "stream",
     "text": [
      " 70%|███████   | 140/200 [00:28<00:11,  5.01it/s]"
     ]
    },
    {
     "name": "stdout",
     "output_type": "stream",
     "text": [
      "Epoch: 0139 loss_train: 2.9942 acc_train: 0.9214 acc_val: 0.8020 acc_test: 0.8210 time: 0.2058s\n",
      "Epoch: 0140 loss_train: 2.8673 acc_train: 0.9214 acc_val: 0.8000 acc_test: 0.8170 time: 0.1916s\n"
     ]
    },
    {
     "name": "stderr",
     "output_type": "stream",
     "text": [
      " 71%|███████   | 142/200 [00:29<00:11,  5.02it/s]"
     ]
    },
    {
     "name": "stdout",
     "output_type": "stream",
     "text": [
      "Epoch: 0141 loss_train: 2.8587 acc_train: 0.9500 acc_val: 0.8000 acc_test: 0.8200 time: 0.2093s\n",
      "Epoch: 0142 loss_train: 2.2780 acc_train: 0.9643 acc_val: 0.7960 acc_test: 0.8220 time: 0.1881s\n"
     ]
    },
    {
     "name": "stderr",
     "output_type": "stream",
     "text": [
      " 72%|███████▏  | 144/200 [00:29<00:11,  5.08it/s]"
     ]
    },
    {
     "name": "stdout",
     "output_type": "stream",
     "text": [
      "Epoch: 0143 loss_train: 2.4841 acc_train: 0.9429 acc_val: 0.7960 acc_test: 0.8220 time: 0.1977s\n",
      "Epoch: 0144 loss_train: 2.5662 acc_train: 0.9357 acc_val: 0.7980 acc_test: 0.8230 time: 0.1859s\n"
     ]
    },
    {
     "name": "stderr",
     "output_type": "stream",
     "text": [
      " 72%|███████▎  | 145/200 [00:29<00:10,  5.10it/s]"
     ]
    },
    {
     "name": "stdout",
     "output_type": "stream",
     "text": [
      "Epoch: 0145 loss_train: 2.7489 acc_train: 0.9143 acc_val: 0.7980 acc_test: 0.8220 time: 0.1920s\n"
     ]
    },
    {
     "name": "stderr",
     "output_type": "stream",
     "text": [
      " 74%|███████▎  | 147/200 [00:30<00:10,  5.02it/s]"
     ]
    },
    {
     "name": "stdout",
     "output_type": "stream",
     "text": [
      "Epoch: 0146 loss_train: 2.5527 acc_train: 0.9571 acc_val: 0.8020 acc_test: 0.8160 time: 0.2014s\n",
      "Epoch: 0147 loss_train: 2.1790 acc_train: 0.9643 acc_val: 0.8020 acc_test: 0.8140 time: 0.1975s\n"
     ]
    },
    {
     "name": "stderr",
     "output_type": "stream",
     "text": [
      " 74%|███████▍  | 149/200 [00:30<00:09,  5.12it/s]"
     ]
    },
    {
     "name": "stdout",
     "output_type": "stream",
     "text": [
      "Epoch: 0148 loss_train: 2.6289 acc_train: 0.9357 acc_val: 0.7960 acc_test: 0.8130 time: 0.1870s\n",
      "Epoch: 0149 loss_train: 2.6898 acc_train: 0.9571 acc_val: 0.8000 acc_test: 0.8170 time: 0.1921s\n"
     ]
    },
    {
     "name": "stderr",
     "output_type": "stream",
     "text": [
      " 76%|███████▌  | 151/200 [00:30<00:09,  5.07it/s]"
     ]
    },
    {
     "name": "stdout",
     "output_type": "stream",
     "text": [
      "Epoch: 0150 loss_train: 2.8718 acc_train: 0.9429 acc_val: 0.7960 acc_test: 0.8240 time: 0.2022s\n",
      "Epoch: 0151 loss_train: 2.5974 acc_train: 0.9286 acc_val: 0.7960 acc_test: 0.8230 time: 0.1947s\n"
     ]
    },
    {
     "name": "stderr",
     "output_type": "stream",
     "text": [
      " 76%|███████▋  | 153/200 [00:31<00:09,  5.15it/s]"
     ]
    },
    {
     "name": "stdout",
     "output_type": "stream",
     "text": [
      "Epoch: 0152 loss_train: 3.0561 acc_train: 0.9143 acc_val: 0.7980 acc_test: 0.8260 time: 0.1890s\n",
      "Epoch: 0153 loss_train: 2.5598 acc_train: 0.9214 acc_val: 0.7980 acc_test: 0.8230 time: 0.1911s\n"
     ]
    },
    {
     "name": "stderr",
     "output_type": "stream",
     "text": [
      " 78%|███████▊  | 155/200 [00:31<00:08,  5.14it/s]"
     ]
    },
    {
     "name": "stdout",
     "output_type": "stream",
     "text": [
      "Epoch: 0154 loss_train: 3.3381 acc_train: 0.9000 acc_val: 0.7960 acc_test: 0.8160 time: 0.1911s\n",
      "Epoch: 0155 loss_train: 2.9761 acc_train: 0.9429 acc_val: 0.7960 acc_test: 0.8100 time: 0.1964s\n"
     ]
    },
    {
     "name": "stderr",
     "output_type": "stream",
     "text": [
      " 78%|███████▊  | 157/200 [00:31<00:08,  5.11it/s]"
     ]
    },
    {
     "name": "stdout",
     "output_type": "stream",
     "text": [
      "Epoch: 0156 loss_train: 2.3875 acc_train: 0.9571 acc_val: 0.7940 acc_test: 0.8090 time: 0.1953s\n",
      "Epoch: 0157 loss_train: 2.3300 acc_train: 0.9500 acc_val: 0.7960 acc_test: 0.8090 time: 0.1958s\n"
     ]
    },
    {
     "name": "stderr",
     "output_type": "stream",
     "text": [
      " 80%|███████▉  | 159/200 [00:32<00:07,  5.19it/s]"
     ]
    },
    {
     "name": "stdout",
     "output_type": "stream",
     "text": [
      "Epoch: 0158 loss_train: 2.6550 acc_train: 0.9357 acc_val: 0.7940 acc_test: 0.8120 time: 0.1877s\n",
      "Epoch: 0159 loss_train: 2.7261 acc_train: 0.9429 acc_val: 0.8020 acc_test: 0.8130 time: 0.1892s\n"
     ]
    },
    {
     "name": "stderr",
     "output_type": "stream",
     "text": [
      " 80%|████████  | 161/200 [00:32<00:07,  5.14it/s]"
     ]
    },
    {
     "name": "stdout",
     "output_type": "stream",
     "text": [
      "Epoch: 0160 loss_train: 2.8136 acc_train: 0.9286 acc_val: 0.7980 acc_test: 0.8200 time: 0.1962s\n",
      "Epoch: 0161 loss_train: 2.0592 acc_train: 0.9643 acc_val: 0.8000 acc_test: 0.8220 time: 0.1950s\n"
     ]
    },
    {
     "name": "stderr",
     "output_type": "stream",
     "text": [
      " 82%|████████▏ | 163/200 [00:33<00:07,  5.13it/s]"
     ]
    },
    {
     "name": "stdout",
     "output_type": "stream",
     "text": [
      "Epoch: 0162 loss_train: 3.0420 acc_train: 0.9214 acc_val: 0.7960 acc_test: 0.8230 time: 0.1971s\n",
      "Epoch: 0163 loss_train: 2.9136 acc_train: 0.9429 acc_val: 0.7980 acc_test: 0.8250 time: 0.1913s\n"
     ]
    },
    {
     "name": "stderr",
     "output_type": "stream",
     "text": [
      " 82%|████████▎ | 165/200 [00:33<00:06,  5.12it/s]"
     ]
    },
    {
     "name": "stdout",
     "output_type": "stream",
     "text": [
      "Epoch: 0164 loss_train: 2.2101 acc_train: 0.9429 acc_val: 0.8020 acc_test: 0.8220 time: 0.1989s\n",
      "Epoch: 0165 loss_train: 2.5041 acc_train: 0.9214 acc_val: 0.8000 acc_test: 0.8220 time: 0.1915s\n"
     ]
    },
    {
     "name": "stderr",
     "output_type": "stream",
     "text": [
      " 83%|████████▎ | 166/200 [00:33<00:06,  5.08it/s]"
     ]
    },
    {
     "name": "stdout",
     "output_type": "stream",
     "text": [
      "Epoch: 0166 loss_train: 2.4630 acc_train: 0.9357 acc_val: 0.8020 acc_test: 0.8210 time: 0.1990s\n"
     ]
    },
    {
     "name": "stderr",
     "output_type": "stream",
     "text": [
      " 84%|████████▍ | 168/200 [00:34<00:06,  5.05it/s]"
     ]
    },
    {
     "name": "stdout",
     "output_type": "stream",
     "text": [
      "Epoch: 0167 loss_train: 2.6233 acc_train: 0.9286 acc_val: 0.8020 acc_test: 0.8180 time: 0.2018s\n",
      "Epoch: 0168 loss_train: 2.3153 acc_train: 0.9429 acc_val: 0.8000 acc_test: 0.8210 time: 0.1949s\n"
     ]
    },
    {
     "name": "stderr",
     "output_type": "stream",
     "text": [
      " 84%|████████▍ | 169/200 [00:34<00:06,  5.01it/s]"
     ]
    },
    {
     "name": "stdout",
     "output_type": "stream",
     "text": [
      "Epoch: 0169 loss_train: 2.0070 acc_train: 0.9643 acc_val: 0.7980 acc_test: 0.8220 time: 0.2024s\n"
     ]
    },
    {
     "name": "stderr",
     "output_type": "stream",
     "text": [
      " 85%|████████▌ | 170/200 [00:34<00:06,  4.97it/s]"
     ]
    },
    {
     "name": "stdout",
     "output_type": "stream",
     "text": [
      "Epoch: 0170 loss_train: 2.2962 acc_train: 0.9429 acc_val: 0.7920 acc_test: 0.8210 time: 0.2045s\n",
      "Epoch: 0171 loss_train: 2.1185 acc_train: 0.9714 acc_val: 0.7960 acc_test: 0.8170 time: 0.1996s\n"
     ]
    },
    {
     "name": "stderr",
     "output_type": "stream",
     "text": [
      " 86%|████████▋ | 173/200 [00:35<00:05,  5.04it/s]"
     ]
    },
    {
     "name": "stdout",
     "output_type": "stream",
     "text": [
      "Epoch: 0172 loss_train: 2.7636 acc_train: 0.9143 acc_val: 0.7940 acc_test: 0.8140 time: 0.1943s\n",
      "Epoch: 0173 loss_train: 2.2866 acc_train: 0.9500 acc_val: 0.7940 acc_test: 0.8140 time: 0.1951s\n"
     ]
    },
    {
     "name": "stderr",
     "output_type": "stream",
     "text": [
      " 87%|████████▋ | 174/200 [00:35<00:05,  5.04it/s]"
     ]
    },
    {
     "name": "stdout",
     "output_type": "stream",
     "text": [
      "Epoch: 0174 loss_train: 2.5131 acc_train: 0.9357 acc_val: 0.7940 acc_test: 0.8170 time: 0.1960s\n"
     ]
    },
    {
     "name": "stderr",
     "output_type": "stream",
     "text": [
      " 88%|████████▊ | 175/200 [00:35<00:05,  4.96it/s]"
     ]
    },
    {
     "name": "stdout",
     "output_type": "stream",
     "text": [
      "Epoch: 0175 loss_train: 2.9284 acc_train: 0.9214 acc_val: 0.7960 acc_test: 0.8170 time: 0.2079s\n"
     ]
    },
    {
     "name": "stderr",
     "output_type": "stream",
     "text": [
      " 88%|████████▊ | 176/200 [00:35<00:04,  4.89it/s]"
     ]
    },
    {
     "name": "stdout",
     "output_type": "stream",
     "text": [
      "Epoch: 0176 loss_train: 2.5104 acc_train: 0.9429 acc_val: 0.7960 acc_test: 0.8180 time: 0.2104s\n"
     ]
    },
    {
     "name": "stderr",
     "output_type": "stream",
     "text": [
      " 89%|████████▉ | 178/200 [00:36<00:04,  4.99it/s]"
     ]
    },
    {
     "name": "stdout",
     "output_type": "stream",
     "text": [
      "Epoch: 0177 loss_train: 2.4851 acc_train: 0.9571 acc_val: 0.7960 acc_test: 0.8170 time: 0.2004s\n",
      "Epoch: 0178 loss_train: 2.7185 acc_train: 0.9214 acc_val: 0.7940 acc_test: 0.8260 time: 0.1918s\n"
     ]
    },
    {
     "name": "stderr",
     "output_type": "stream",
     "text": [
      " 90%|█████████ | 180/200 [00:36<00:03,  5.00it/s]"
     ]
    },
    {
     "name": "stdout",
     "output_type": "stream",
     "text": [
      "Epoch: 0179 loss_train: 2.2400 acc_train: 0.9500 acc_val: 0.7980 acc_test: 0.8280 time: 0.2034s\n",
      "Epoch: 0180 loss_train: 2.3958 acc_train: 0.9500 acc_val: 0.7980 acc_test: 0.8290 time: 0.1947s\n"
     ]
    },
    {
     "name": "stderr",
     "output_type": "stream",
     "text": [
      " 91%|█████████ | 182/200 [00:36<00:03,  5.04it/s]"
     ]
    },
    {
     "name": "stdout",
     "output_type": "stream",
     "text": [
      "Epoch: 0181 loss_train: 2.7938 acc_train: 0.9143 acc_val: 0.8020 acc_test: 0.8300 time: 0.1995s\n",
      "Epoch: 0182 loss_train: 2.7819 acc_train: 0.9286 acc_val: 0.8020 acc_test: 0.8270 time: 0.1928s\n"
     ]
    },
    {
     "name": "stderr",
     "output_type": "stream",
     "text": [
      " 92%|█████████▏| 184/200 [00:37<00:03,  5.01it/s]"
     ]
    },
    {
     "name": "stdout",
     "output_type": "stream",
     "text": [
      "Epoch: 0183 loss_train: 2.2262 acc_train: 0.9786 acc_val: 0.7960 acc_test: 0.8250 time: 0.2082s\n",
      "Epoch: 0184 loss_train: 3.1057 acc_train: 0.8929 acc_val: 0.7940 acc_test: 0.8240 time: 0.1927s\n"
     ]
    },
    {
     "name": "stderr",
     "output_type": "stream",
     "text": [
      " 92%|█████████▎| 185/200 [00:37<00:03,  4.99it/s]"
     ]
    },
    {
     "name": "stdout",
     "output_type": "stream",
     "text": [
      "Epoch: 0185 loss_train: 2.4492 acc_train: 0.9286 acc_val: 0.8000 acc_test: 0.8230 time: 0.2010s\n"
     ]
    },
    {
     "name": "stderr",
     "output_type": "stream",
     "text": [
      " 94%|█████████▎| 187/200 [00:37<00:02,  5.04it/s]"
     ]
    },
    {
     "name": "stdout",
     "output_type": "stream",
     "text": [
      "Epoch: 0186 loss_train: 2.1793 acc_train: 0.9714 acc_val: 0.7960 acc_test: 0.8170 time: 0.1996s\n",
      "Epoch: 0187 loss_train: 2.8100 acc_train: 0.9214 acc_val: 0.7940 acc_test: 0.8150 time: 0.1919s\n"
     ]
    },
    {
     "name": "stderr",
     "output_type": "stream",
     "text": [
      " 94%|█████████▍| 189/200 [00:38<00:02,  5.04it/s]"
     ]
    },
    {
     "name": "stdout",
     "output_type": "stream",
     "text": [
      "Epoch: 0188 loss_train: 2.7472 acc_train: 0.9071 acc_val: 0.7960 acc_test: 0.8150 time: 0.1943s\n",
      "Epoch: 0189 loss_train: 2.7563 acc_train: 0.9357 acc_val: 0.7940 acc_test: 0.8160 time: 0.1986s\n"
     ]
    },
    {
     "name": "stderr",
     "output_type": "stream",
     "text": [
      " 96%|█████████▌| 191/200 [00:38<00:01,  5.14it/s]"
     ]
    },
    {
     "name": "stdout",
     "output_type": "stream",
     "text": [
      "Epoch: 0190 loss_train: 2.1625 acc_train: 0.9500 acc_val: 0.7960 acc_test: 0.8150 time: 0.1915s\n",
      "Epoch: 0191 loss_train: 2.0723 acc_train: 0.9643 acc_val: 0.7920 acc_test: 0.8190 time: 0.1879s\n"
     ]
    },
    {
     "name": "stderr",
     "output_type": "stream",
     "text": [
      " 96%|█████████▋| 193/200 [00:39<00:01,  5.16it/s]"
     ]
    },
    {
     "name": "stdout",
     "output_type": "stream",
     "text": [
      "Epoch: 0192 loss_train: 2.5743 acc_train: 0.9429 acc_val: 0.7940 acc_test: 0.8180 time: 0.1881s\n",
      "Epoch: 0193 loss_train: 3.4134 acc_train: 0.9071 acc_val: 0.7980 acc_test: 0.8230 time: 0.1946s\n"
     ]
    },
    {
     "name": "stderr",
     "output_type": "stream",
     "text": [
      " 98%|█████████▊| 195/200 [00:39<00:00,  5.13it/s]"
     ]
    },
    {
     "name": "stdout",
     "output_type": "stream",
     "text": [
      "Epoch: 0194 loss_train: 2.5670 acc_train: 0.9286 acc_val: 0.7960 acc_test: 0.8230 time: 0.1922s\n",
      "Epoch: 0195 loss_train: 2.6968 acc_train: 0.9429 acc_val: 0.8000 acc_test: 0.8280 time: 0.1963s\n"
     ]
    },
    {
     "name": "stderr",
     "output_type": "stream",
     "text": [
      " 98%|█████████▊| 197/200 [00:39<00:00,  5.00it/s]"
     ]
    },
    {
     "name": "stdout",
     "output_type": "stream",
     "text": [
      "Epoch: 0196 loss_train: 2.2284 acc_train: 0.9643 acc_val: 0.8000 acc_test: 0.8280 time: 0.2174s\n",
      "Epoch: 0197 loss_train: 2.6088 acc_train: 0.9286 acc_val: 0.8040 acc_test: 0.8280 time: 0.1929s\n"
     ]
    },
    {
     "name": "stderr",
     "output_type": "stream",
     "text": [
      "100%|█████████▉| 199/200 [00:40<00:00,  5.14it/s]"
     ]
    },
    {
     "name": "stdout",
     "output_type": "stream",
     "text": [
      "Epoch: 0198 loss_train: 2.0897 acc_train: 0.9571 acc_val: 0.8020 acc_test: 0.8270 time: 0.1885s\n",
      "Epoch: 0199 loss_train: 2.7776 acc_train: 0.9429 acc_val: 0.8020 acc_test: 0.8240 time: 0.1879s\n"
     ]
    },
    {
     "name": "stderr",
     "output_type": "stream",
     "text": [
      "100%|██████████| 200/200 [00:40<00:00,  4.94it/s]"
     ]
    },
    {
     "name": "stdout",
     "output_type": "stream",
     "text": [
      "Epoch: 0200 loss_train: 1.7638 acc_train: 0.9714 acc_val: 0.8020 acc_test: 0.8250 time: 0.1902s\n",
      "Optimization Finished!\n",
      "Total time elapsed: 40.4691s\n",
      "0.808 0.8290000000000001\n",
      "0.806 0.8290000000000001\n",
      "0.804 0.8280000000000001\n",
      "0.802 0.8250000000000001\n",
      "0.8 0.8280000000000001\n",
      "0.798 0.8230000000000001\n",
      "0.796 0.8230000000000001\n",
      "0.794 0.8180000000000001\n",
      "0.792 0.8190000000000001\n",
      "0.79 0.805\n"
     ]
    },
    {
     "name": "stderr",
     "output_type": "stream",
     "text": [
      "\n"
     ]
    }
   ],
   "source": [
    "model = ROD_cla(nfeat=features.shape[1], nhid=args.hidden,\n",
    "        nclass=labels.max().item() + 1, dropout=args.dropout, num_hops=args.num_hops).to(device)\n",
    "optimizer = optim.Adam(model.parameters(), lr=args.lr, weight_decay=args.weight_decay)\n",
    "\n",
    "t_total = time.time()\n",
    "record = {}\n",
    "for epoch in tqdm(range(args.epochs)):\n",
    "    t = time.time()\n",
    "    model.train()\n",
    "    optimizer.zero_grad()\n",
    "    z_list= model(feature_list)\n",
    "    \n",
    "    z_ensemble = F.softmax(z_list[0].data, 1)\n",
    "    for i in range(1, args.num_hops+1):\n",
    "        z_ensemble += F.softmax(z_list[i].data, 1)\n",
    "    z_ensemble /= args.num_hops + 1\n",
    "    \n",
    "    loss1 = 0.\n",
    "    for i in range(args.num_hops+1):\n",
    "        loss1 += F.cross_entropy(z_list[i][idx_train], labels[idx_train], reduction='mean')\n",
    "    \n",
    "    loss2 = 0.\n",
    "    for i in range(args.num_hops+1):\n",
    "        loss2 += F.kl_div(F.log_softmax(z_list[i][idx_train], dim=1), z_ensemble[idx_train], reduction='batchmean')\n",
    "    \n",
    "    start, end = 0, batch_size\n",
    "    loss3 = 0.\n",
    "    ran_head = np.random.randint(0, length_neg-length-1)\n",
    "    sampled_neg_list = []\n",
    "    for i in range(args.num_hops+1):\n",
    "        sampled_neg_list.append(torch.LongTensor(neg_inds_list[i][np.arange(ran_head, ran_head+length)]).to(device))\n",
    "    \n",
    "    while end <= length:\n",
    "        for i in range(args.num_hops+1):\n",
    "            sampled_inds = torch.cat((pos_inds_cuda_list[i][start:end], sampled_neg_list[i][start:end]), 0)\n",
    "            xind = sampled_inds // n_nodes\n",
    "            yind = sampled_inds % n_nodes\n",
    "            zx = torch.index_select(z_list[i], 0, xind)\n",
    "            zy = torch.index_select(z_list[i], 0, yind)\n",
    "            batch_label = torch.cat((torch.ones(end-start), torch.zeros(end-start)), 0).to(device)\n",
    "            batch_pred = (F.normalize(zx) * F.normalize(zy)).sum(1)\n",
    "            weight = torch.cat((batch_pred[:batch_size], 1-batch_pred[batch_size:]), 0).data\n",
    "            loss3 += loss_function(adj_preds=batch_pred, adj_labels=batch_label, weight=weight)\n",
    "\n",
    "        start = end\n",
    "        if end < length <= end + batch_size:\n",
    "            end += length - end\n",
    "        else:\n",
    "            end += batch_size\n",
    "\n",
    "    loss_train = loss1 + 0.01*loss2 + 0.001*loss3\n",
    "    acc_train = accuracy(z_ensemble[idx_train], labels[idx_train])\n",
    "    loss_train.backward()\n",
    "    optimizer.step()\n",
    "                          \n",
    "    model.eval()\n",
    "    z_list = model(feature_list)\n",
    "    z_ensemble = z_list[0]\n",
    "    for i in range(1, args.num_hops+1):\n",
    "        z_ensemble += z_list[i]\n",
    "    z_ensemble /= args.num_hops + 1\n",
    "\n",
    "    acc_val = accuracy(z_ensemble[idx_val], labels[idx_val])\n",
    "    acc_test = accuracy(z_ensemble[idx_test], labels[idx_test])\n",
    "    print('Epoch: {:04d}'.format(epoch+1),\n",
    "          'loss_train: {:.4f}'.format(loss_train.item()),\n",
    "          'acc_train: {:.4f}'.format(acc_train.item()),\n",
    "          'acc_val: {:.4f}'.format(acc_val.item()),\n",
    "          'acc_test: {:.4f}'.format(acc_test.item()),\n",
    "          'time: {:.4f}s'.format(time.time() - t))\n",
    "    record[acc_val.item()] = acc_test.item()\n",
    "        \n",
    "print(\"Optimization Finished!\")\n",
    "print(\"Total time elapsed: {:.4f}s\".format(time.time() - t_total))\n",
    "bit_list = sorted(record.keys())\n",
    "bit_list.reverse()\n",
    "for key in bit_list[:10]:\n",
    "    value = record[key]\n",
    "    print(key,value)"
   ]
  },
  {
   "cell_type": "code",
   "execution_count": null,
   "metadata": {},
   "outputs": [],
   "source": []
  }
 ],
 "metadata": {
  "kernelspec": {
   "display_name": "Python 3",
   "language": "python",
   "name": "python3"
  },
  "language_info": {
   "codemirror_mode": {
    "name": "ipython",
    "version": 3
   },
   "file_extension": ".py",
   "mimetype": "text/x-python",
   "name": "python",
   "nbconvert_exporter": "python",
   "pygments_lexer": "ipython3",
   "version": "3.12.2"
  }
 },
 "nbformat": 4,
 "nbformat_minor": 2
}
